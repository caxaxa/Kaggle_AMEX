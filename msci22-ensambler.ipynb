{
 "cells": [
  {
   "cell_type": "markdown",
   "id": "824cabfd",
   "metadata": {
    "papermill": {
     "duration": 0.005376,
     "end_time": "2022-10-25T16:08:22.398319",
     "exception": false,
     "start_time": "2022-10-25T16:08:22.392943",
     "status": "completed"
    },
    "tags": []
   },
   "source": [
    "# Multimodal Single-Cell Integration"
   ]
  },
  {
   "cell_type": "markdown",
   "id": "03ec638c",
   "metadata": {
    "papermill": {
     "duration": 0.002767,
     "end_time": "2022-10-25T16:08:22.405017",
     "exception": false,
     "start_time": "2022-10-25T16:08:22.402250",
     "status": "completed"
    },
    "tags": []
   },
   "source": [
    "#### Thanks to: @**pourchot**\n",
    "\n",
    "##### https://www.kaggle.com/code/pourchot/all-in-one-citeseq-multiome-with-keras/notebook"
   ]
  },
  {
   "cell_type": "code",
   "execution_count": 1,
   "id": "72c60b0d",
   "metadata": {
    "execution": {
     "iopub.execute_input": "2022-10-25T16:08:22.416039Z",
     "iopub.status.busy": "2022-10-25T16:08:22.415561Z",
     "iopub.status.idle": "2022-10-25T16:08:22.430570Z",
     "shell.execute_reply": "2022-10-25T16:08:22.429236Z"
    },
    "papermill": {
     "duration": 0.024093,
     "end_time": "2022-10-25T16:08:22.434080",
     "exception": false,
     "start_time": "2022-10-25T16:08:22.409987",
     "status": "completed"
    },
    "tags": []
   },
   "outputs": [],
   "source": [
    "import warnings # suppress warnings\n",
    "warnings.filterwarnings('ignore')"
   ]
  },
  {
   "cell_type": "code",
   "execution_count": 2,
   "id": "ffb657e2",
   "metadata": {
    "execution": {
     "iopub.execute_input": "2022-10-25T16:08:22.444047Z",
     "iopub.status.busy": "2022-10-25T16:08:22.442930Z",
     "iopub.status.idle": "2022-10-25T16:08:23.564195Z",
     "shell.execute_reply": "2022-10-25T16:08:23.562538Z"
    },
    "papermill": {
     "duration": 1.129533,
     "end_time": "2022-10-25T16:08:23.567706",
     "exception": false,
     "start_time": "2022-10-25T16:08:22.438173",
     "status": "completed"
    },
    "tags": []
   },
   "outputs": [
    {
     "name": "stdout",
     "output_type": "stream",
     "text": [
      "../input/fork-mmscel-crossvalidation-schemes:\r\n",
      "__notebook__.ipynb\r\n",
      "__output__.json\r\n",
      "__results__.html\r\n",
      "__results___files\r\n",
      "custom.css\r\n",
      "df_stat_new_feat.csv\r\n",
      "submission_cite_seq_CVschemesV31NewFeaturesAndAlfa_multiome_sskknts_KerDrop.csv\r\n",
      "\r\n",
      "../input/fork-msci2-all-in-one:\r\n",
      "__notebook__.ipynb\t     model_0\r\n",
      "__output__.json\t\t     model_1\r\n",
      "__results__.html\t     model_2\r\n",
      "checkpoint\t\t     submission_lolo_1.csv\r\n",
      "citeseq.data-00000-of-00001  submission_lolo_total_ensembling.csv\r\n",
      "citeseq.index\t\t     submissions\r\n",
      "custom.css\r\n",
      "\r\n",
      "../input/msci22-fork-knn:\r\n",
      "__notebook__.ipynb  __results__.html  custom.css  submission.csv\r\n",
      "__output__.json     cellids.npy       pred.npy\r\n",
      "\r\n",
      "../input/msci22-fork-knn2:\r\n",
      "__notebook__.ipynb  __results__.html  submission.csv\r\n",
      "__output__.json     custom.css\r\n",
      "\r\n",
      "../input/open-problems-multimodal:\r\n",
      "evaluation_ids.csv\t\t       test_multi_inputs.h5\r\n",
      "metadata.csv\t\t\t       train_cite_inputs.h5\r\n",
      "metadata_cite_day_2_donor_27678.csv    train_cite_targets.h5\r\n",
      "sample_submission.csv\t\t       train_multi_inputs.h5\r\n",
      "test_cite_inputs.h5\t\t       train_multi_targets.h5\r\n",
      "test_cite_inputs_day_2_donor_27678.h5\r\n"
     ]
    }
   ],
   "source": [
    "import os, gc\n",
    "import numpy as np \n",
    "import pandas as pd\n",
    "from tqdm import tqdm\n",
    "\n",
    "!ls ../input/*"
   ]
  },
  {
   "cell_type": "markdown",
   "id": "e07be1ec",
   "metadata": {
    "papermill": {
     "duration": 0.002578,
     "end_time": "2022-10-25T16:08:23.573375",
     "exception": false,
     "start_time": "2022-10-25T16:08:23.570797",
     "status": "completed"
    },
    "tags": []
   },
   "source": [
    "# Ensambling and Submission"
   ]
  },
  {
   "cell_type": "code",
   "execution_count": 3,
   "id": "4c5f062a",
   "metadata": {
    "execution": {
     "iopub.execute_input": "2022-10-25T16:08:23.581857Z",
     "iopub.status.busy": "2022-10-25T16:08:23.580999Z",
     "iopub.status.idle": "2022-10-25T16:10:52.428324Z",
     "shell.execute_reply": "2022-10-25T16:10:52.425743Z"
    },
    "papermill": {
     "duration": 148.857816,
     "end_time": "2022-10-25T16:10:52.434113",
     "exception": false,
     "start_time": "2022-10-25T16:08:23.576297",
     "status": "completed"
    },
    "tags": []
   },
   "outputs": [],
   "source": [
    "sub1 = pd.read_csv('../input/msci22-fork-knn2/submission.csv')\n",
    "\n",
    "sub2 = pd.read_csv('../input/msci22-fork-knn/submission.csv')\n",
    "\n",
    "sub3 = pd.read_csv('../input/fork-msci2-all-in-one/submission_lolo_total_ensembling.csv')\n",
    "\n",
    "sub4 = pd.read_csv('../input/fork-mmscel-crossvalidation-schemes/submission_cite_seq_CVschemesV31NewFeaturesAndAlfa_multiome_sskknts_KerDrop.csv')"
   ]
  },
  {
   "cell_type": "code",
   "execution_count": 4,
   "id": "712035f6",
   "metadata": {
    "execution": {
     "iopub.execute_input": "2022-10-25T16:10:52.445298Z",
     "iopub.status.busy": "2022-10-25T16:10:52.444795Z",
     "iopub.status.idle": "2022-10-25T16:10:53.938651Z",
     "shell.execute_reply": "2022-10-25T16:10:53.936882Z"
    },
    "papermill": {
     "duration": 1.502555,
     "end_time": "2022-10-25T16:10:53.942062",
     "exception": false,
     "start_time": "2022-10-25T16:10:52.439507",
     "status": "completed"
    },
    "tags": []
   },
   "outputs": [
    {
     "data": {
      "text/html": [
       "<div>\n",
       "<style scoped>\n",
       "    .dataframe tbody tr th:only-of-type {\n",
       "        vertical-align: middle;\n",
       "    }\n",
       "\n",
       "    .dataframe tbody tr th {\n",
       "        vertical-align: top;\n",
       "    }\n",
       "\n",
       "    .dataframe thead th {\n",
       "        text-align: right;\n",
       "    }\n",
       "</style>\n",
       "<table border=\"1\" class=\"dataframe\">\n",
       "  <thead>\n",
       "    <tr style=\"text-align: right;\">\n",
       "      <th></th>\n",
       "      <th>row_id</th>\n",
       "      <th>target</th>\n",
       "    </tr>\n",
       "  </thead>\n",
       "  <tbody>\n",
       "    <tr>\n",
       "      <th>0</th>\n",
       "      <td>0</td>\n",
       "      <td>-0.011319</td>\n",
       "    </tr>\n",
       "    <tr>\n",
       "      <th>1</th>\n",
       "      <td>1</td>\n",
       "      <td>0.004756</td>\n",
       "    </tr>\n",
       "    <tr>\n",
       "      <th>2</th>\n",
       "      <td>2</td>\n",
       "      <td>0.117174</td>\n",
       "    </tr>\n",
       "    <tr>\n",
       "      <th>3</th>\n",
       "      <td>3</td>\n",
       "      <td>2.489819</td>\n",
       "    </tr>\n",
       "    <tr>\n",
       "      <th>4</th>\n",
       "      <td>4</td>\n",
       "      <td>3.030896</td>\n",
       "    </tr>\n",
       "    <tr>\n",
       "      <th>...</th>\n",
       "      <td>...</td>\n",
       "      <td>...</td>\n",
       "    </tr>\n",
       "    <tr>\n",
       "      <th>65744175</th>\n",
       "      <td>65744175</td>\n",
       "      <td>5.113268</td>\n",
       "    </tr>\n",
       "    <tr>\n",
       "      <th>65744176</th>\n",
       "      <td>65744176</td>\n",
       "      <td>-0.201215</td>\n",
       "    </tr>\n",
       "    <tr>\n",
       "      <th>65744177</th>\n",
       "      <td>65744177</td>\n",
       "      <td>-0.192036</td>\n",
       "    </tr>\n",
       "    <tr>\n",
       "      <th>65744178</th>\n",
       "      <td>65744178</td>\n",
       "      <td>0.772765</td>\n",
       "    </tr>\n",
       "    <tr>\n",
       "      <th>65744179</th>\n",
       "      <td>65744179</td>\n",
       "      <td>4.474498</td>\n",
       "    </tr>\n",
       "  </tbody>\n",
       "</table>\n",
       "<p>65744180 rows × 2 columns</p>\n",
       "</div>"
      ],
      "text/plain": [
       "            row_id    target\n",
       "0                0 -0.011319\n",
       "1                1  0.004756\n",
       "2                2  0.117174\n",
       "3                3  2.489819\n",
       "4                4  3.030896\n",
       "...            ...       ...\n",
       "65744175  65744175  5.113268\n",
       "65744176  65744176 -0.201215\n",
       "65744177  65744177 -0.192036\n",
       "65744178  65744178  0.772765\n",
       "65744179  65744179  4.474498\n",
       "\n",
       "[65744180 rows x 2 columns]"
      ]
     },
     "metadata": {},
     "output_type": "display_data"
    }
   ],
   "source": [
    "sub = sub1.copy()\n",
    "sub['target'] = (0.025 * sub1['target']) + (0.125 * sub2['target']) + (0.5 * sub3['target'])+ (0.35 * sub4['target'])\n",
    "\n",
    "display(sub)"
   ]
  },
  {
   "cell_type": "code",
   "execution_count": 5,
   "id": "368fffff",
   "metadata": {
    "execution": {
     "iopub.execute_input": "2022-10-25T16:10:53.951275Z",
     "iopub.status.busy": "2022-10-25T16:10:53.950433Z",
     "iopub.status.idle": "2022-10-25T16:13:33.114692Z",
     "shell.execute_reply": "2022-10-25T16:13:33.112687Z"
    },
    "papermill": {
     "duration": 159.172255,
     "end_time": "2022-10-25T16:13:33.118142",
     "exception": false,
     "start_time": "2022-10-25T16:10:53.945887",
     "status": "completed"
    },
    "tags": []
   },
   "outputs": [
    {
     "name": "stdout",
     "output_type": "stream",
     "text": [
      "__notebook__.ipynb  submission.csv\r\n"
     ]
    }
   ],
   "source": [
    "sub.to_csv('submission.csv', index=False)\n",
    "!ls"
   ]
  }
 ],
 "metadata": {
  "kernelspec": {
   "display_name": "Python 3",
   "language": "python",
   "name": "python3"
  },
  "language_info": {
   "codemirror_mode": {
    "name": "ipython",
    "version": 3
   },
   "file_extension": ".py",
   "mimetype": "text/x-python",
   "name": "python",
   "nbconvert_exporter": "python",
   "pygments_lexer": "ipython3",
   "version": "3.7.12"
  },
  "papermill": {
   "default_parameters": {},
   "duration": 321.738951,
   "end_time": "2022-10-25T16:13:34.048290",
   "environment_variables": {},
   "exception": null,
   "input_path": "__notebook__.ipynb",
   "output_path": "__notebook__.ipynb",
   "parameters": {},
   "start_time": "2022-10-25T16:08:12.309339",
   "version": "2.3.4"
  }
 },
 "nbformat": 4,
 "nbformat_minor": 5
}
